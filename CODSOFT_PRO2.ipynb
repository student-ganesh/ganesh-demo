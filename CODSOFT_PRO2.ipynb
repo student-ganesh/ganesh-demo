{
  "nbformat": 4,
  "nbformat_minor": 0,
  "metadata": {
    "colab": {
      "provenance": [],
      "mount_file_id": "1MqiHeKMt3UitNIdNA4et-eCYbCoIiUJE",
      "authorship_tag": "ABX9TyMZ9aFBr5NTeLSFKynu91R6",
      "include_colab_link": true
    },
    "kernelspec": {
      "name": "python3",
      "display_name": "Python 3"
    },
    "language_info": {
      "name": "python"
    }
  },
  "cells": [
    {
      "cell_type": "markdown",
      "metadata": {
        "id": "view-in-github",
        "colab_type": "text"
      },
      "source": [
        "<a href=\"https://colab.research.google.com/github/student-ganesh/ganesh-demo/blob/main/CODSOFT_PRO2.ipynb\" target=\"_parent\"><img src=\"https://colab.research.google.com/assets/colab-badge.svg\" alt=\"Open In Colab\"/></a>"
      ]
    },
    {
      "cell_type": "markdown",
      "source": [
        "DATA LOADING"
      ],
      "metadata": {
        "id": "Re06dnEhKd_p"
      }
    },
    {
      "cell_type": "code",
      "source": [
        "import pandas as pd\n",
        "\n",
        "# Load the CSV file with 'ISO-8859-1' encoding to handle special characters\n",
        "df = pd.read_csv('IMDb Movies India.csv', encoding='ISO-8859-1')\n",
        "\n",
        "# Show the first few rows to verify it's loaded correctly\n",
        "print(df.head())\n"
      ],
      "metadata": {
        "colab": {
          "base_uri": "https://localhost:8080/"
        },
        "id": "9Is4QjExKmCG",
        "outputId": "9a2e3b21-e541-4eb6-c263-877acbfae041"
      },
      "execution_count": 10,
      "outputs": [
        {
          "output_type": "stream",
          "name": "stdout",
          "text": [
            "                                 Name    Year Duration            Genre  \\\n",
            "0                                         NaN      NaN            Drama   \n",
            "1  #Gadhvi (He thought he was Gandhi)  (2019)  109 min            Drama   \n",
            "2                         #Homecoming  (2021)   90 min   Drama, Musical   \n",
            "3                             #Yaaram  (2019)  110 min  Comedy, Romance   \n",
            "4                   ...And Once Again  (2010)  105 min            Drama   \n",
            "\n",
            "   Rating Votes            Director       Actor 1             Actor 2  \\\n",
            "0     NaN   NaN       J.S. Randhawa      Manmauji              Birbal   \n",
            "1     7.0     8       Gaurav Bakshi  Rasika Dugal      Vivek Ghamande   \n",
            "2     NaN   NaN  Soumyajit Majumdar  Sayani Gupta   Plabita Borthakur   \n",
            "3     4.4    35          Ovais Khan       Prateik          Ishita Raj   \n",
            "4     NaN   NaN        Amol Palekar  Rajat Kapoor  Rituparna Sengupta   \n",
            "\n",
            "           Actor 3  \n",
            "0  Rajendra Bhatia  \n",
            "1    Arvind Jangid  \n",
            "2       Roy Angana  \n",
            "3  Siddhant Kapoor  \n",
            "4      Antara Mali  \n"
          ]
        }
      ]
    },
    {
      "cell_type": "code",
      "source": [
        "print(df.describe())\n",
        "print(df.info())"
      ],
      "metadata": {
        "colab": {
          "base_uri": "https://localhost:8080/"
        },
        "id": "FMDP0tHhNa8t",
        "outputId": "575a6b3f-e60f-4c8e-c9df-56b7b7696d6a"
      },
      "execution_count": 12,
      "outputs": [
        {
          "output_type": "stream",
          "name": "stdout",
          "text": [
            "            Rating\n",
            "count  7919.000000\n",
            "mean      5.841621\n",
            "std       1.381777\n",
            "min       1.100000\n",
            "25%       4.900000\n",
            "50%       6.000000\n",
            "75%       6.800000\n",
            "max      10.000000\n",
            "<class 'pandas.core.frame.DataFrame'>\n",
            "RangeIndex: 15509 entries, 0 to 15508\n",
            "Data columns (total 10 columns):\n",
            " #   Column    Non-Null Count  Dtype  \n",
            "---  ------    --------------  -----  \n",
            " 0   Name      15509 non-null  object \n",
            " 1   Year      14981 non-null  object \n",
            " 2   Duration  7240 non-null   object \n",
            " 3   Genre     13632 non-null  object \n",
            " 4   Rating    7919 non-null   float64\n",
            " 5   Votes     7920 non-null   object \n",
            " 6   Director  14984 non-null  object \n",
            " 7   Actor 1   13892 non-null  object \n",
            " 8   Actor 2   13125 non-null  object \n",
            " 9   Actor 3   12365 non-null  object \n",
            "dtypes: float64(1), object(9)\n",
            "memory usage: 1.2+ MB\n",
            "None\n"
          ]
        }
      ]
    },
    {
      "cell_type": "markdown",
      "source": [
        "DATA PREPROCESSIG"
      ],
      "metadata": {
        "id": "a_-9Bnx0Nu5f"
      }
    },
    {
      "cell_type": "code",
      "source": [
        "print(df.columns)"
      ],
      "metadata": {
        "colab": {
          "base_uri": "https://localhost:8080/"
        },
        "id": "HU6duLy2OVgP",
        "outputId": "1759aeb9-0037-4362-92a5-c432813e587c"
      },
      "execution_count": 14,
      "outputs": [
        {
          "output_type": "stream",
          "name": "stdout",
          "text": [
            "Index(['Name', 'Year', 'Duration', 'Genre', 'Rating', 'Votes', 'Director',\n",
            "       'Actor 1', 'Actor 2', 'Actor 3'],\n",
            "      dtype='object')\n"
          ]
        }
      ]
    },
    {
      "cell_type": "code",
      "source": [
        "# Fill missing ratings with the mean of the ratings column\n",
        "df['Rating'].fillna(df['Rating'].mean(), inplace=True)\n",
        "\n",
        "# Drop rows where any critical feature like Genre, Director, or Actor is missing\n",
        "df.dropna(subset=['Genre', 'Director', 'Actor 1', 'Actor 2', 'Actor 3'], inplace=True)\n",
        "\n",
        "# Check again for missing values after handling\n",
        "print(df.isnull().sum())\n",
        "\n"
      ],
      "metadata": {
        "colab": {
          "base_uri": "https://localhost:8080/"
        },
        "id": "neXk9UMmNxZj",
        "outputId": "a60de293-937b-45bd-9743-83ee097afcb3"
      },
      "execution_count": 15,
      "outputs": [
        {
          "output_type": "stream",
          "name": "stdout",
          "text": [
            "Name           0\n",
            "Year         282\n",
            "Duration    4839\n",
            "Genre          0\n",
            "Rating         0\n",
            "Votes       3809\n",
            "Director       0\n",
            "Actor 1        0\n",
            "Actor 2        0\n",
            "Actor 3        0\n",
            "dtype: int64\n"
          ]
        },
        {
          "output_type": "stream",
          "name": "stderr",
          "text": [
            "<ipython-input-15-358651ee547e>:2: FutureWarning: A value is trying to be set on a copy of a DataFrame or Series through chained assignment using an inplace method.\n",
            "The behavior will change in pandas 3.0. This inplace method will never work because the intermediate object on which we are setting values always behaves as a copy.\n",
            "\n",
            "For example, when doing 'df[col].method(value, inplace=True)', try using 'df.method({col: value}, inplace=True)' or df[col] = df[col].method(value) instead, to perform the operation inplace on the original object.\n",
            "\n",
            "\n",
            "  df['Rating'].fillna(df['Rating'].mean(), inplace=True)\n"
          ]
        }
      ]
    },
    {
      "cell_type": "markdown",
      "source": [
        "FEATURE SEECTION"
      ],
      "metadata": {
        "id": "LpLWGna9PL2H"
      }
    },
    {
      "cell_type": "code",
      "source": [
        "# Define features (X) and target variable (y)\n",
        "X = df.drop(columns=['Rating', 'Name'])  # Drop the 'Name' column as it's not useful for prediction\n",
        "y = df['Rating']  # Target variable is Rating\n",
        "\n",
        "# Check the shapes of X and y\n",
        "print(X.shape, y.shape)\n"
      ],
      "metadata": {
        "colab": {
          "base_uri": "https://localhost:8080/"
        },
        "id": "YfoQVeY7POAm",
        "outputId": "cd1f8ed4-da6a-4894-ae2b-968fbc798009"
      },
      "execution_count": 16,
      "outputs": [
        {
          "output_type": "stream",
          "name": "stdout",
          "text": [
            "(11368, 8) (11368,)\n"
          ]
        }
      ]
    },
    {
      "cell_type": "markdown",
      "source": [
        "TRAIN_TEST_SPLIT"
      ],
      "metadata": {
        "id": "NZ5E-q4IPVFQ"
      }
    },
    {
      "cell_type": "code",
      "source": [
        "from sklearn.model_selection import train_test_split\n",
        "\n",
        "# Split the data into training and testing sets (80% training, 20% testing)\n",
        "X_train, X_test, y_train, y_test = train_test_split(X, y, test_size=0.2, random_state=42)\n",
        "\n",
        "# Check the sizes of the training and testing sets\n",
        "print(X_train.shape, X_test.shape, y_train.shape, y_test.shape)\n"
      ],
      "metadata": {
        "colab": {
          "base_uri": "https://localhost:8080/"
        },
        "id": "-im1iV4uPYoG",
        "outputId": "6d3b226d-c4fa-474d-f659-f2269e3d179b"
      },
      "execution_count": 17,
      "outputs": [
        {
          "output_type": "stream",
          "name": "stdout",
          "text": [
            "(9094, 8) (2274, 8) (9094,) (2274,)\n"
          ]
        }
      ]
    },
    {
      "cell_type": "code",
      "source": [
        "def convert_monetary_value(value):\n",
        "    \"\"\"\n",
        "    Function to convert monetary values from formats like '$5.16M', '$1.5K' into numeric values.\n",
        "    \"\"\"\n",
        "    if isinstance(value, str):\n",
        "        # Remove dollar sign and commas\n",
        "        value = value.replace('$', '').replace(',', '')\n",
        "\n",
        "        # Check if 'M' (million) is in the value\n",
        "        if 'M' in value:\n",
        "            value = float(value.replace('M', '')) * 1e6\n",
        "        # Check if 'K' (thousand) is in the value\n",
        "        elif 'K' in value:\n",
        "            value = float(value.replace('K', '')) * 1e3\n",
        "        else:\n",
        "            value = float(value)  # If no 'M' or 'K', just convert directly\n",
        "    return value\n"
      ],
      "metadata": {
        "id": "cnnoYCtsTRCA"
      },
      "execution_count": 28,
      "outputs": []
    },
    {
      "cell_type": "markdown",
      "source": [
        "MODEL BUILDING"
      ],
      "metadata": {
        "id": "t48k-WrCPfQn"
      }
    },
    {
      "cell_type": "code",
      "source": [
        "import pandas as pd\n",
        "from sklearn.ensemble import RandomForestRegressor\n",
        "from sklearn.metrics import mean_squared_error, r2_score\n",
        "from sklearn.model_selection import train_test_split\n",
        "from sklearn.preprocessing import LabelEncoder\n",
        "\n",
        "# Example: Load your dataset\n",
        "# df = pd.read_csv('your_data.csv')  # Replace with your actual data loading method\n",
        "\n",
        "# Assuming the dataframe `df` has the columns you listed\n",
        "X = df.drop('Rating', axis=1)  # Drop 'Rating' as the target variable (adjust target if different)\n",
        "y = df['Rating']  # Assuming 'Rating' is the target variable\n",
        "\n",
        "# Clean column names by stripping extra spaces\n",
        "X.columns = X.columns.str.strip()\n",
        "\n",
        "# 1. Clean the 'Year' and 'Duration' columns if necessary\n",
        "X['Year'] = X['Year'].replace(r'\\D', '', regex=True).astype(float)  # Remove non-digits from 'Year'\n",
        "\n",
        "# Clean 'Duration' column: Remove non-numeric characters (like ' min') and convert to float\n",
        "X['Duration'] = X['Duration'].replace({',': '', ' min': ''}, regex=True).astype(float)  # Removing commas and ' min'\n",
        "\n",
        "# 2. Clean the 'Votes' column: Remove commas and dollar sign, and convert to float\n",
        "def convert_monetary_value(value):\n",
        "    \"\"\"\n",
        "    Function to convert monetary values from formats like '$5.16M', '$1.5K' into numeric values.\n",
        "    \"\"\"\n",
        "    if isinstance(value, str):\n",
        "        # Remove dollar sign and commas\n",
        "        value = value.replace('$', '').replace(',', '')\n",
        "\n",
        "        # Check if 'M' (million) is in the value\n",
        "        if 'M' in value:\n",
        "            value = float(value.replace('M', '')) * 1e6\n",
        "        # Check if 'K' (thousand) is in the value\n",
        "        elif 'K' in value:\n",
        "            value = float(value.replace('K', '')) * 1e3\n",
        "        else:\n",
        "            value = float(value)  # If no 'M' or 'K', just convert directly\n",
        "    return value\n",
        "\n",
        "# Apply conversion to 'Votes' column\n",
        "X['Votes'] = X['Votes'].apply(convert_monetary_value)\n",
        "\n",
        "# 3. Handle monetary columns (e.g., Revenue, Budget, Profit)\n",
        "monetary_cols = ['Revenue', 'Budget', 'Profit']  # Replace with your actual monetary columns\n",
        "\n",
        "for col in monetary_cols:\n",
        "    if col in X.columns:\n",
        "        X[col] = X[col].apply(convert_monetary_value)\n",
        "    else:\n",
        "        print(f\"Column {col} is missing from the DataFrame.\")\n",
        "\n",
        "# 4. Handle categorical features: 'Name', 'Genre', 'Director', 'Actor 1', 'Actor 2', 'Actor 3'\n",
        "# Convert these columns using LabelEncoder or One-Hot Encoding\n",
        "categorical_cols = ['Name', 'Genre', 'Director', 'Actor 1', 'Actor 2', 'Actor 3']\n",
        "\n",
        "# Apply Label Encoding for categorical variables (or One-Hot Encoding for more complex cases)\n",
        "le = LabelEncoder()\n",
        "for col in categorical_cols:\n",
        "    X[col] = le.fit_transform(X[col].astype(str))\n",
        "\n",
        "# 5. Split the data into training and testing sets\n",
        "X_train, X_test, y_train, y_test = train_test_split(X, y, test_size=0.2, random_state=42)\n",
        "\n",
        "# 6. Initialize and train the RandomForestRegressor\n",
        "regressor = RandomForestRegressor(n_estimators=100, random_state=42)\n",
        "regressor.fit(X_train, y_train)\n",
        "\n",
        "# 7. Make predictions on the test set\n",
        "y_pred = regressor.predict(X_test)\n",
        "\n",
        "# 8. Evaluate the model's performance\n",
        "mse = mean_squared_error(y_test, y_pred)\n",
        "r2 = r2_score(y_test, y_pred)\n",
        "\n",
        "# 9. Print the evaluation metrics\n",
        "print(f'Mean Squared Error: {mse}')\n",
        "print(f'R-squared: {r2}')\n"
      ],
      "metadata": {
        "colab": {
          "base_uri": "https://localhost:8080/"
        },
        "id": "i0h6vqnnPh0B",
        "outputId": "80743e80-e6fc-45ec-f924-ef459e7e9e5c"
      },
      "execution_count": 31,
      "outputs": [
        {
          "output_type": "stream",
          "name": "stdout",
          "text": [
            "Column Revenue is missing from the DataFrame.\n",
            "Column Budget is missing from the DataFrame.\n",
            "Column Profit is missing from the DataFrame.\n",
            "Mean Squared Error: 0.7641437505834457\n",
            "R-squared: 0.3712620635340276\n"
          ]
        }
      ]
    },
    {
      "cell_type": "markdown",
      "source": [
        "MODEL EVALUATION"
      ],
      "metadata": {
        "id": "O_qwg1_BUFBI"
      }
    },
    {
      "cell_type": "code",
      "source": [
        "import matplotlib.pyplot as plt\n",
        "\n",
        "# Plot Actual vs Predicted Ratings\n",
        "plt.scatter(y_test, y_pred)\n",
        "plt.xlabel('Actual Ratings')\n",
        "plt.ylabel('Predicted Ratings')\n",
        "plt.title('Actual vs Predicted Ratings')\n",
        "plt.show()\n"
      ],
      "metadata": {
        "colab": {
          "base_uri": "https://localhost:8080/",
          "height": 472
        },
        "id": "u2HyXeG4UEJr",
        "outputId": "4865d964-d936-4479-acce-c390bdbb2619"
      },
      "execution_count": 32,
      "outputs": [
        {
          "output_type": "display_data",
          "data": {
            "text/plain": [
              "<Figure size 640x480 with 1 Axes>"
            ],
            "image/png": "[encoded data removed]"
          },
          "metadata": {}
        }
      ]
    },
    {
      "cell_type": "markdown",
      "source": [
        "HYPERPARAMETER TUNING"
      ],
      "metadata": {
        "id": "onOqs44WUSGU"
      }
    },
    {
      "cell_type": "code",
      "source": [
        "from sklearn.model_selection import RandomizedSearchCV\n",
        "from sklearn.ensemble import RandomForestRegressor\n",
        "\n",
        "# Define the random hyperparameter grid\n",
        "param_dist = {\n",
        "    'n_estimators': [50, 100, 200],\n",
        "    'max_depth': [None, 10, 20, 30],\n",
        "    'min_samples_split': [2, 5, 10],\n",
        "    'min_samples_leaf': [1, 2, 4],\n",
        "    'max_features': ['sqrt', 'log2', None]\n",
        "}\n",
        "\n",
        "# Initialize the Random Forest Regressor\n",
        "regressor = RandomForestRegressor(random_state=42)\n",
        "\n",
        "# Perform RandomizedSearchCV with a limited number of iterations\n",
        "randomized_search = RandomizedSearchCV(regressor, param_distributions=param_dist, n_iter=10, cv=3, n_jobs=-1, random_state=42, scoring='neg_mean_squared_error')\n",
        "\n",
        "# Fit the model\n",
        "randomized_search.fit(X_train, y_train)\n",
        "\n",
        "# Output the best parameters\n",
        "print(f\"Best parameters found: {randomized_search.best_params_}\")\n"
      ],
      "metadata": {
        "colab": {
          "base_uri": "https://localhost:8080/"
        },
        "id": "4K14JSmCUYvG",
        "outputId": "037677c9-3c44-4b5a-9418-625f285cfcca"
      },
      "execution_count": 38,
      "outputs": [
        {
          "output_type": "stream",
          "name": "stdout",
          "text": [
            "Best parameters found: {'n_estimators': 200, 'min_samples_split': 5, 'min_samples_leaf': 4, 'max_features': 'sqrt', 'max_depth': 30}\n"
          ]
        }
      ]
    }
  ]
}